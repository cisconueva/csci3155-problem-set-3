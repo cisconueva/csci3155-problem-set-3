{
 "cells": [
  {
   "cell_type": "markdown",
   "id": "38ba548f-3c3e-4475-8be5-4e76aabf970e",
   "metadata": {},
   "source": [
    "# STUDENT: `Francisco Villanueva`\n",
    "## COLLABORATORS: `_YOUR_, _COLLABORATORS_, _HERE_`\n",
    "* resources:\n",
    "    * `_YOUR_`\n",
    "    * `_RESOURCES_`\n",
    "    * `_HERE_`"
   ]
  },
  {
   "cell_type": "markdown",
   "id": "896dffa0",
   "metadata": {
    "deletable": false,
    "editable": false,
    "nbgrader": {
     "cell_type": "markdown",
     "checksum": "6cc256877fe462120250c92d5b864161",
     "grade": false,
     "grade_id": "cell-ffce7d7a67945ec5",
     "locked": true,
     "schema_version": 3,
     "solution": false,
     "task": false
    }
   },
   "source": [
    "# CSCI 3155 Problem Set 3 : Grammars\n",
    "\n",
    "1. This assignment asks you to write scala programs. There are restrictions associated with how you can solve these problems. Please pay careful heed to those. If you are unsure ask your TA or post on piazza. \n",
    "1. Note: `???` indicates that there is a missing function or code fragment that needs to be filled in. In scala, it is also a macro that throws a `NotImplemented` exception. Make sure that you remove the `???` and replace it with the answer. \n",
    "1. Use the test cases provided to test your solutions. You are encouraged to write your own tests and you are typically given a space to write these test. **Unless otherwise specified, your personal tests will NOT be graded.** If new cells are made during your development, please delete any extra cells you may have created lest they break our autograder.\n",
    "1. Before you turn this problem in, make sure everything runs as expected. First, **restart the kernel** (in the menubar, select Kernel$\\rightarrow$Restart) and then **run all cells** (in the menubar, select Cell$\\rightarrow$Run All).\n",
    "1. Make sure you fill in any place that says `???`, \"`_YOUR_ANSWER _HERE_`\", or \"`_YOUR_NAME_HERE_`\".\n",
    "1. **Very Important:** Please run the cell that defines the functions `passed`, `testWithMessage`, `testErrorWithMessage` below whenever you restart the notebook.\n",
    "1. **Very Important:** You are responsible to ensure that your work is submitted correctly. We recommend, after uploading your solution to Canvas, then download the submission and confirm that the correct file was provided for grading."
   ]
  },
  {
   "cell_type": "code",
   "execution_count": 1,
   "id": "0b7f0493",
   "metadata": {
    "deletable": false,
    "editable": false,
    "nbgrader": {
     "cell_type": "code",
     "checksum": "5e7aa435b9e080bec2e601686050aa0a",
     "grade": false,
     "grade_id": "cell-a0d7a10bf6e94b43",
     "locked": true,
     "schema_version": 3,
     "solution": false,
     "task": false
    },
    "slideshow": {
     "slide_type": ""
    },
    "tags": []
   },
   "outputs": [
    {
     "data": {
      "text/html": [
       "<div class=\"jp-RenderedText\">\n",
       "<pre><code><span style=\"color: rgb(0, 187, 0)\"><span class=\"ansi-green-fg\">import </span></span><span style=\"color: rgb(0, 187, 187)\"><span class=\"ansi-cyan-fg\">scala.util</span></span>\n",
       "<span style=\"color: rgb(0, 187, 0)\"><span class=\"ansi-green-fg\">import </span></span><span style=\"color: rgb(0, 187, 187)\"><span class=\"ansi-cyan-fg\">scala.annotation.tailrec</span></span>\n",
       "<span style=\"color: rgb(0, 187, 187)\"><span class=\"ansi-cyan-fg\">finalScore</span></span>: <span style=\"color: rgb(0, 187, 0)\"><span class=\"ansi-green-fg\">Int</span></span> = <span style=\"color: rgb(0, 187, 0)\"><span class=\"ansi-green-fg\">0</span></span>\n",
       "defined <span style=\"color: rgb(0, 187, 0)\"><span class=\"ansi-green-fg\">function</span></span> <span style=\"color: rgb(0, 187, 187)\"><span class=\"ansi-cyan-fg\">passed</span></span>\n",
       "defined <span style=\"color: rgb(0, 187, 0)\"><span class=\"ansi-green-fg\">function</span></span> <span style=\"color: rgb(0, 187, 187)\"><span class=\"ansi-cyan-fg\">grade</span></span>\n",
       "defined <span style=\"color: rgb(0, 187, 0)\"><span class=\"ansi-green-fg\">function</span></span> <span style=\"color: rgb(0, 187, 187)\"><span class=\"ansi-cyan-fg\">testWithMessage</span></span>\n",
       "defined <span style=\"color: rgb(0, 187, 0)\"><span class=\"ansi-green-fg\">function</span></span> <span style=\"color: rgb(0, 187, 187)\"><span class=\"ansi-cyan-fg\">testErrorWithMessage</span></span></code></pre>\n",
       "</div>"
      ],
      "text/plain": [
       "\u001b[32mimport \u001b[39m\u001b[36mscala.util\u001b[39m\n",
       "\u001b[32mimport \u001b[39m\u001b[36mscala.annotation.tailrec\u001b[39m\n",
       "\u001b[36mfinalScore\u001b[39m: \u001b[32mInt\u001b[39m = \u001b[32m0\u001b[39m\n",
       "defined \u001b[32mfunction\u001b[39m \u001b[36mpassed\u001b[39m\n",
       "defined \u001b[32mfunction\u001b[39m \u001b[36mgrade\u001b[39m\n",
       "defined \u001b[32mfunction\u001b[39m \u001b[36mtestWithMessage\u001b[39m\n",
       "defined \u001b[32mfunction\u001b[39m \u001b[36mtestErrorWithMessage\u001b[39m"
      ]
     },
     "metadata": {},
     "output_type": "display_data"
    }
   ],
   "source": [
    "// TEST HELPER\n",
    "\n",
    "// FIRST RUN THIS CELL EVERY TIME YOU START THE NOTEBOOK\n",
    "\n",
    "// IMPORTS\n",
    "import scala.util\n",
    "import scala.annotation.tailrec\n",
    "\n",
    "// TEST HELPERS\n",
    "var finalScore = 0\n",
    "def passed(points: Int) = {\n",
    "    require(points >=0)\n",
    "    if (points == 1) print(s\"\\n*** Tests Passed (1 point) ***\\n\")\n",
    "    else print(s\"\\n*** Tests Passed ($points points) ***\\n\")\n",
    "    finalScore += points\n",
    "}\n",
    "def grade() = {\n",
    "    print(s\"Score: $finalScore out of 100\")\n",
    "}\n",
    "\n",
    "/**\n",
    " * testWithMessage\n",
    " * \n",
    " * test the value returned by calling $e1 against the $expected value.\n",
    " * prettify printing of the test results\n",
    " *\n",
    " * e.g. testWithMessage( () => 1 + 2, \n",
    " *                       3, \n",
    " *                       \"my addition test\" )\n",
    " * \n",
    " * e.g. testWithMessage( () => 1/0, \n",
    " *                       42, \n",
    " *                       \"my intentially bad test\" )\n",
    " *\n",
    " * @param e1: a thunk from nothing to T. this is the expression of the thing you really want to test\n",
    " * @param expected: this is the expected return value from e1\n",
    " * @param testID: the name of the test for pretty printing\n",
    " */\n",
    "def testWithMessage[T](e1: () => T, expected: T, testID: String) = { \n",
    "    println(s\"Test $testID\"); \n",
    "    println(s\"\\t Expected: $expected\")\n",
    "    try {\n",
    "        val v1: T = e1()\n",
    "        println(s\"\\tyour code returned: $v1\")\n",
    "        assert (v1 == expected, s\"XXX\\tTest $testID FAILED.\")\n",
    "        println(s\"\\t$testID Passed!\")\n",
    "    } catch {\n",
    "        case err: Throwable => assert(false, s\"XXX\\tTest $testID FAILED with unexpected ERROR::\\n$err\")\n",
    "    }\n",
    "}\n",
    "\n",
    "\n",
    "/**\n",
    " * testErrorWithMessage\n",
    " * \n",
    " * test the expected error type $expectedErrorTemplate found when executing $e1\n",
    " * prettify printing of the test results\n",
    " *\n",
    " * e.g. val expectedErr = new ArithmeticException\n",
    " *      testErrorWithMessage( () => 1/0, \n",
    " *                            expectedErr, \n",
    " *                            \"My expected error test\")\n",
    " *\n",
    " * @param e1: a thunk from nothing to T. this is the expression of the thing you really want to test\n",
    " * @param expected: this is the expected return value from e1\n",
    " * @param testID: the name of the test for pretty printing\n",
    " */\n",
    "def testErrorWithMessage[T, E](e1: () => T, expectedErrorTemplate: E, testID: String) = { \n",
    "    println(s\"Test $testID\"); \n",
    "    val expectedErrorClass = expectedErrorTemplate.getClass\n",
    "    println(s\"\\tExpected: $expectedErrorClass\")\n",
    "    try {\n",
    "        val foundValue: T = e1()\n",
    "        assert(false, s\"\\tTest $testID FAILED. Expected an error, but found a value\")\n",
    "    } catch {\n",
    "        case foundError: Throwable => {\n",
    "            val foundErrorClass = foundError.getClass\n",
    "            if (foundErrorClass == expectedErrorClass) {\n",
    "                println(s\"\\t$testID Passed!\")\n",
    "            } else {\n",
    "                assert(false, s\"XXX\\tTest $testID FAILED. Expected error $expectedErrorClass, but found $foundErrorClass.\")\n",
    "            }\n",
    "        }\n",
    "    }\n",
    "}"
   ]
  },
  {
   "cell_type": "markdown",
   "id": "127630b2",
   "metadata": {
    "deletable": false,
    "editable": false,
    "nbgrader": {
     "cell_type": "markdown",
     "checksum": "92704d23286a7140d69f88647e3f6804",
     "grade": false,
     "grade_id": "cell-9f24ef7d1866c3c8",
     "locked": true,
     "schema_version": 3,
     "solution": false,
     "task": false
    },
    "slideshow": {
     "slide_type": ""
    },
    "tags": []
   },
   "source": [
    "## Problem 1: Grammar to code (35 points)\n",
    "* Allow us to review the names of the PL staff a bit. Unfortunately there are too many students in the class to do a full student version as we've done in the past. This is a very random grammar that does not hold any significant meaning. \n",
    "* convert the following grammar to an object class hierarchy\n",
    "\n",
    "$$\\begin{array}{lll}\n",
    "Kai & \\Rightarrow & Tome \\\\\n",
    "&|& Prash \\\\\n",
    "&|& Kevin(Ryan,\\; Varun) \\\\\n",
    "&|& Harsha(Varun) \\\\\n",
    "\\\\\n",
    "Rahul & \\Rightarrow & Tome \\\\\n",
    "&|& Shuchi \\\\\n",
    "&|& Ryan() \\\\\n",
    "&|& Kirby \\\\\n",
    "\\\\\n",
    "Shuchi & \\Rightarrow & Denzil(Tome,\\; Rahul) \\\\\n",
    "&|& Varun() \\\\\n",
    "\\\\\n",
    "Tome & \\Rightarrow & Spencer(Kai) \\\\\n",
    "&|& Nour(Kai,\\; Denzil,\\; Kai)\\\\\n",
    "\\end{array}$$\n",
    "\n",
    "<!-- Spencer & \\Rightarrow & Abhishek \\\\\n",
    "& | & Alex(Spencer) \\\\\n",
    "& | & Ali \\\\\n",
    "& | & Andrew \\\\\n",
    "& | & Emanuel(Spencer, Abhishek, Varun) \\\\\n",
    "& | & Gunn(Spencer, Ali) \\\\\n",
    "\\\\\n",
    "Abhishek & \\Rightarrow & Varun \\\\\n",
    "& | & Izzy(Ali, Varun, Ali) \\\\\n",
    "& | & Neena(Ali, Ali, Vaurn) \\\\\n",
    "& | & Simon \\\\\n",
    "\\\\\n",
    "Varun & \\Rightarrow & Tyler(Spencer) \\\\\n",
    "& | & Yohanes \\\\\n",
    "\\\\\n",
    "Ali & \\Rightarrow & Aaron \\\\\n",
    "& | & Harley \\\\\n",
    "& | & Jack \\\\\n",
    "& | & Rahul \\\\\n",
    "& | & Kailen \\\\\n",
    "& | & Saud \\\\ -->\n",
    "* ***Restrictions:*** \n",
    "    * You may use `sealed trait`, `case class`, and `case object`\n",
    "    * If you use standard `class` and `object`, then you must define an `apply` method in order to pass the provided tests for class objects\n",
    "    * You may NOT use `sealed abstract class` (for grading reasons, not because its bad or unworthy of your studies)"
   ]
  },
  {
   "cell_type": "code",
   "execution_count": 2,
   "id": "1d9881d7-5d8c-44b3-b079-0c08e60f7a43",
   "metadata": {
    "deletable": false,
    "nbgrader": {
     "cell_type": "code",
     "checksum": "7f0bd84d0c8f5f96850085988146431c",
     "grade": false,
     "grade_id": "cell-1424445d9b3353f5",
     "locked": false,
     "schema_version": 3,
     "solution": true,
     "task": false
    }
   },
   "outputs": [
    {
     "data": {
      "text/plain": [
       "defined \u001b[32mtrait\u001b[39m \u001b[36mKai\u001b[39m\n",
       "defined \u001b[32mobject\u001b[39m \u001b[36mPrash\u001b[39m\n",
       "defined \u001b[32mclass\u001b[39m \u001b[36mKevin\u001b[39m\n",
       "defined \u001b[32mclass\u001b[39m \u001b[36mHarsha\u001b[39m\n",
       "defined \u001b[32mtrait\u001b[39m \u001b[36mRahul\u001b[39m\n",
       "defined \u001b[32mclass\u001b[39m \u001b[36mRyan\u001b[39m\n",
       "defined \u001b[32mobject\u001b[39m \u001b[36mKirby\u001b[39m\n",
       "defined \u001b[32mtrait\u001b[39m \u001b[36mShuchi\u001b[39m\n",
       "defined \u001b[32mclass\u001b[39m \u001b[36mDenzil\u001b[39m\n",
       "defined \u001b[32mclass\u001b[39m \u001b[36mVarun\u001b[39m\n",
       "defined \u001b[32mtrait\u001b[39m \u001b[36mTome\u001b[39m\n",
       "defined \u001b[32mclass\u001b[39m \u001b[36mSpencer\u001b[39m\n",
       "defined \u001b[32mclass\u001b[39m \u001b[36mNour\u001b[39m"
      ]
     },
     "execution_count": 2,
     "metadata": {},
     "output_type": "execute_result"
    }
   ],
   "source": [
    "// _YOUR_CODE_HERE_\n",
    "sealed trait Kai\n",
    "case object Prash extends Kai\n",
    "case class Kevin(r: Ryan, v: Varun) extends Kai\n",
    "case class Harsha(v: Varun) extends Kai\n",
    "\n",
    "sealed trait Rahul\n",
    "case class Ryan() extends Rahul\n",
    "case object Kirby extends Rahul\n",
    "\n",
    "sealed trait Shuchi extends Rahul\n",
    "case class Denzil(t: Tome, r: Rahul) extends Shuchi\n",
    "case class Varun() extends Shuchi\n",
    "\n",
    "sealed trait Tome extends Kai with Rahul\n",
    "case class Spencer(k: Kai) extends Tome\n",
    "case class Nour(k0: Kai, d: Denzil, k1: Kai) extends Tome\n",
    "\n",
    "\n",
    "// sealed trait Kai\n",
    "// case object Prash extends Kai\n",
    "// case class Kevin(r: Ryan, v: Varun) extends Kai\n",
    "// case class Harsha(v: Varun)\n",
    "\n",
    "// sealed trait Rahul\n",
    "// case class Ryan() extends Rahul\n",
    "// case object Kirby extends Rahul\n",
    "\n",
    "// sealed trait Shuchi extends Rahul\n",
    "// case class Denzil(t: Tome, r: Rahul) extends Shuchi\n",
    "// case class Varun() extends Shuchi\n",
    "\n",
    "// sealed trait Tome extends Rahul\n",
    "// case class Spencer(k: Kai) extends Tome\n",
    "// case class Nour(k1: Kai, d: Denzil, k2: Kai) extends Tome\n",
    "// _YOUR_TESTS_HERE"
   ]
  },
  {
   "cell_type": "code",
   "execution_count": 3,
   "id": "8da1a213-ae8c-46ce-ad88-2bd549f7e0cc",
   "metadata": {
    "deletable": false,
    "editable": false,
    "nbgrader": {
     "cell_type": "code",
     "checksum": "27fd303079fbcd06d90019972048bb09",
     "grade": true,
     "grade_id": "cell-721ecf4b51f12766",
     "locked": true,
     "points": 5,
     "schema_version": 3,
     "solution": false,
     "task": false
    }
   },
   "outputs": [
    {
     "name": "stderr",
     "output_type": "stream",
     "text": [
      "cell3.sc:6: fruitless type test: a value of type cell3.this.cell2.Prash.type cannot also be a cell3.this.cell2.Rahul\n",
      "    assert(!x.isInstanceOf[Rahul], \"test about Rahul\")\n",
      "                          ^\n",
      "cell3.sc:7: fruitless type test: a value of type cell3.this.cell2.Prash.type cannot also be a cell3.this.cell2.Shuchi\n",
      "    assert(!x.isInstanceOf[Shuchi], \"test about Shuchi\")\n",
      "                          ^\n",
      "cell3.sc:8: fruitless type test: a value of type cell3.this.cell2.Prash.type cannot also be a cell3.this.cell2.Tome\n",
      "    assert(!x.isInstanceOf[Tome], \"test about Tome\")\n",
      "                          ^\n"
     ]
    },
    {
     "name": "stdout",
     "output_type": "stream",
     "text": [
      "\n",
      "*** Tests Passed (5 points) ***\n"
     ]
    },
    {
     "data": {
      "text/plain": [
       "\u001b[36mx0\u001b[39m: \u001b[32mPrash\u001b[39m.type = Prash"
      ]
     },
     "execution_count": 3,
     "metadata": {},
     "output_type": "execute_result"
    }
   ],
   "source": [
    "// BEGIN TESTS\n",
    "// Kai simple\n",
    "val x0 = Prash\n",
    "for (x <- List(x0)) {\n",
    "    assert(x.isInstanceOf[Kai], \"test about Kai\")\n",
    "    assert(!x.isInstanceOf[Rahul], \"test about Rahul\")\n",
    "    assert(!x.isInstanceOf[Shuchi], \"test about Shuchi\")\n",
    "    assert(!x.isInstanceOf[Tome], \"test about Tome\")\n",
    "}\n",
    "passed(5)\n",
    "// END TESTS"
   ]
  },
  {
   "cell_type": "code",
   "execution_count": 4,
   "id": "11a82143-8de1-4c5c-a616-8f70e1fe3f85",
   "metadata": {
    "deletable": false,
    "editable": false,
    "nbgrader": {
     "cell_type": "code",
     "checksum": "0710250ba9bd6886ca4465e752a709b6",
     "grade": true,
     "grade_id": "cell-00d8243fcc2c34a1",
     "locked": true,
     "points": 5,
     "schema_version": 3,
     "solution": false,
     "task": false
    }
   },
   "outputs": [
    {
     "name": "stdout",
     "output_type": "stream",
     "text": [
      "\n",
      "*** Tests Passed (5 points) ***\n"
     ]
    },
    {
     "data": {
      "text/plain": [
       "\u001b[36mx0\u001b[39m: \u001b[32mKirby\u001b[39m.type = Kirby\n",
       "\u001b[36mx1\u001b[39m: \u001b[32mRyan\u001b[39m = Ryan()"
      ]
     },
     "execution_count": 4,
     "metadata": {},
     "output_type": "execute_result"
    }
   ],
   "source": [
    "// BEGIN TESTS\n",
    "// Rahul simple\n",
    "val x0 = Kirby\n",
    "val x1 = Ryan()\n",
    "for (x <- List(x0, x1)) {\n",
    "    assert(!x.isInstanceOf[Kai], \"test about Kai\")\n",
    "    assert(x.isInstanceOf[Rahul], \"test about Rahul\")\n",
    "    assert(!x.isInstanceOf[Shuchi], \"test about Shuchi\")\n",
    "    assert(!x.isInstanceOf[Tome], \"test about Tome\")\n",
    "}\n",
    "passed(5)\n",
    "// END TESTS"
   ]
  },
  {
   "cell_type": "code",
   "execution_count": 5,
   "id": "a1b0f269-8e89-42b2-bacc-280c393d69aa",
   "metadata": {
    "deletable": false,
    "editable": false,
    "nbgrader": {
     "cell_type": "code",
     "checksum": "957ac4cb60d5fdb0a90d12cbbc768602",
     "grade": true,
     "grade_id": "cell-658085a6d1fc8a01",
     "locked": true,
     "points": 5,
     "schema_version": 3,
     "solution": false,
     "task": false
    }
   },
   "outputs": [
    {
     "name": "stdout",
     "output_type": "stream",
     "text": [
      "\n",
      "*** Tests Passed (5 points) ***\n"
     ]
    },
    {
     "data": {
      "text/plain": [
       "\u001b[36mx0\u001b[39m: \u001b[32mVarun\u001b[39m = Varun()"
      ]
     },
     "execution_count": 5,
     "metadata": {},
     "output_type": "execute_result"
    }
   ],
   "source": [
    "// BEGIN TESTS\n",
    "// Shuchi simple\n",
    "val x0 = Varun()\n",
    "for (x <- List(x0)) {\n",
    "    assert(!x.isInstanceOf[Kai], \"test about Kai\")\n",
    "    assert(x.isInstanceOf[Rahul], \"test about Rahul\")\n",
    "    assert(x.isInstanceOf[Shuchi], \"test about Shuchi\")\n",
    "    assert(!x.isInstanceOf[Tome], \"test about Tome\")\n",
    "}\n",
    "passed(5)\n",
    "// END TESTS"
   ]
  },
  {
   "cell_type": "code",
   "execution_count": 6,
   "id": "e0a441c4-4135-478d-9f45-1e38405aee6b",
   "metadata": {
    "deletable": false,
    "editable": false,
    "nbgrader": {
     "cell_type": "code",
     "checksum": "807df6245d1ccc0ae4d9258b44adaac6",
     "grade": true,
     "grade_id": "cell-3a8f552dc9648092",
     "locked": true,
     "points": 5,
     "schema_version": 3,
     "solution": false,
     "task": false
    }
   },
   "outputs": [
    {
     "name": "stdout",
     "output_type": "stream",
     "text": [
      "\n",
      "*** Tests Passed (5 points) ***\n"
     ]
    },
    {
     "data": {
      "text/plain": [
       "\u001b[36mx0\u001b[39m: \u001b[32mSpencer\u001b[39m = \u001b[33mSpencer\u001b[39m(k = Prash)"
      ]
     },
     "execution_count": 6,
     "metadata": {},
     "output_type": "execute_result"
    }
   ],
   "source": [
    "// BEGIN TESTS\n",
    "// Tome simplish\n",
    "val x0 = Spencer(Prash)\n",
    "\n",
    "for (x <- List(x0)) {\n",
    "    assert(x.isInstanceOf[Kai], \"test about Kai\")\n",
    "    assert(x.isInstanceOf[Rahul], \"test about Rahul\")\n",
    "    assert(!x.isInstanceOf[Shuchi], \"test about Shuchi\")\n",
    "    assert(x.isInstanceOf[Tome], \"test about Tome\")\n",
    "}\n",
    "passed(5)\n",
    "// END TESTS"
   ]
  },
  {
   "cell_type": "code",
   "execution_count": 7,
   "id": "fdc03242-c808-4e87-83e6-18ec7c67aee4",
   "metadata": {
    "deletable": false,
    "editable": false,
    "nbgrader": {
     "cell_type": "code",
     "checksum": "9f77006df3dce9245074fee98136e4bb",
     "grade": true,
     "grade_id": "cell-dff658b9c722c4c7",
     "locked": true,
     "points": 5,
     "schema_version": 3,
     "solution": false,
     "task": false
    }
   },
   "outputs": [
    {
     "name": "stdout",
     "output_type": "stream",
     "text": [
      "\n",
      "*** Tests Passed (5 points) ***\n"
     ]
    },
    {
     "data": {
      "text/plain": [
       "\u001b[36mx0\u001b[39m: \u001b[32mKevin\u001b[39m = \u001b[33mKevin\u001b[39m(r = Ryan(), v = Varun())\n",
       "\u001b[36mx1\u001b[39m: \u001b[32mHarsha\u001b[39m = \u001b[33mHarsha\u001b[39m(v = Varun())"
      ]
     },
     "execution_count": 7,
     "metadata": {},
     "output_type": "execute_result"
    }
   ],
   "source": [
    "// BEGIN TESTS\n",
    "// Kai simplish\n",
    "val x0 = Kevin(Ryan(), Varun())\n",
    "val x1 = Harsha(Varun())\n",
    "for (x <- List(x0, x1)) {\n",
    "    assert(x.isInstanceOf[Kai], \"test about Kai\")\n",
    "    assert(!x.isInstanceOf[Rahul], \"test about Rahul\")\n",
    "    assert(!x.isInstanceOf[Shuchi], \"test about Shuchi\")\n",
    "    assert(!x.isInstanceOf[Tome], \"test about Tome\")\n",
    "}\n",
    "passed(5)\n",
    "// END TESTS"
   ]
  },
  {
   "cell_type": "code",
   "execution_count": 8,
   "id": "fa4299a4-f74a-4fc3-8e34-5464a816d326",
   "metadata": {
    "deletable": false,
    "editable": false,
    "nbgrader": {
     "cell_type": "code",
     "checksum": "664aaa4b5905a1a2eb57a8b8869fe38e",
     "grade": true,
     "grade_id": "cell-feff45d5966e3dd1",
     "locked": true,
     "points": 5,
     "schema_version": 3,
     "solution": false,
     "task": false
    }
   },
   "outputs": [
    {
     "name": "stdout",
     "output_type": "stream",
     "text": [
      "\n",
      "*** Tests Passed (5 points) ***\n"
     ]
    },
    {
     "data": {
      "text/plain": [
       "\u001b[36mx0\u001b[39m: \u001b[32mDenzil\u001b[39m = \u001b[33mDenzil\u001b[39m(t = \u001b[33mSpencer\u001b[39m(k = Prash), r = Kirby)\n",
       "\u001b[36mx1\u001b[39m: \u001b[32mDenzil\u001b[39m = \u001b[33mDenzil\u001b[39m(\n",
       "  t = \u001b[33mNour\u001b[39m(\n",
       "    k0 = Prash,\n",
       "    d = \u001b[33mDenzil\u001b[39m(t = \u001b[33mSpencer\u001b[39m(k = Prash), r = Kirby),\n",
       "    k1 = \u001b[33mHarsha\u001b[39m(v = Varun())\n",
       "  ),\n",
       "  r = Ryan()\n",
       ")"
      ]
     },
     "execution_count": 8,
     "metadata": {},
     "output_type": "execute_result"
    }
   ],
   "source": [
    "// BEGIN TESTS\n",
    "// integrations Shuchi\n",
    "val x0 = Denzil(Spencer(Prash), Kirby)\n",
    "val x1 = Denzil(Nour(Prash, x0, Harsha(Varun())), Ryan())\n",
    "\n",
    "for (x <- List(x0, x1)) {\n",
    "    assert(!x.isInstanceOf[Kai], \"test about Kai\")\n",
    "    assert(x.isInstanceOf[Rahul], \"test about Rahul\")\n",
    "    assert(x.isInstanceOf[Shuchi], \"test about Shuchi\")\n",
    "    assert(!x.isInstanceOf[Tome], \"test about Tome\")\n",
    "}\n",
    "passed(5)\n",
    "// END TESTS"
   ]
  },
  {
   "cell_type": "code",
   "execution_count": 9,
   "id": "1083c09b-098c-4cbd-ae36-96fadec48071",
   "metadata": {
    "deletable": false,
    "editable": false,
    "nbgrader": {
     "cell_type": "code",
     "checksum": "f565d4d1275982b64402dadc61ab56bf",
     "grade": true,
     "grade_id": "cell-6380ac4e50b6de04",
     "locked": true,
     "points": 5,
     "schema_version": 3,
     "solution": false,
     "task": false
    }
   },
   "outputs": [
    {
     "name": "stdout",
     "output_type": "stream",
     "text": [
      "\n",
      "*** Tests Passed (5 points) ***\n"
     ]
    },
    {
     "data": {
      "text/plain": [
       "\u001b[36mx0\u001b[39m: \u001b[32mSpencer\u001b[39m = \u001b[33mSpencer\u001b[39m(k = \u001b[33mKevin\u001b[39m(r = Ryan(), v = Varun()))\n",
       "\u001b[36mx1\u001b[39m: \u001b[32mNour\u001b[39m = \u001b[33mNour\u001b[39m(\n",
       "  k0 = Prash,\n",
       "  d = \u001b[33mDenzil\u001b[39m(t = \u001b[33mSpencer\u001b[39m(k = \u001b[33mKevin\u001b[39m(r = Ryan(), v = Varun())), r = Ryan()),\n",
       "  k1 = \u001b[33mHarsha\u001b[39m(v = Varun())\n",
       ")"
      ]
     },
     "execution_count": 9,
     "metadata": {},
     "output_type": "execute_result"
    }
   ],
   "source": [
    "// BEGIN TESTS\n",
    "// integrations tome\n",
    "val x0 = Spencer(Kevin(Ryan(), Varun()))\n",
    "val x1 = Nour(Prash, Denzil(x0, Ryan()), Harsha(Varun()))\n",
    "\n",
    "for (x <- List(x0, x1)) {\n",
    "    assert(x.isInstanceOf[Kai], \"test about Kai\")\n",
    "    assert(x.isInstanceOf[Rahul], \"test about Rahul\")\n",
    "    assert(!x.isInstanceOf[Shuchi], \"test about Shuchi\")\n",
    "    assert(x.isInstanceOf[Tome], \"test about Tome\")\n",
    "}\n",
    "passed(5)\n",
    "// END TESTS"
   ]
  },
  {
   "cell_type": "markdown",
   "id": "3fa76ec9",
   "metadata": {
    "deletable": false,
    "editable": false,
    "nbgrader": {
     "cell_type": "markdown",
     "checksum": "7e59c4b8330f8ef83000c752525a345c",
     "grade": false,
     "grade_id": "cell-300caae22ab07c6f",
     "locked": true,
     "schema_version": 3,
     "solution": false,
     "task": false
    }
   },
   "source": [
    "# Problem 2 Custom List of Custom Tuple (65 points)\n",
    "Throughout the course we'll be working with pattern matching and unpacking interesting data structures. Let us learn more about lists and tuples now to hopefully shed some light on this matter.\n",
    "\n",
    "## Problem 2.A. unpacking Scala List and Tuple (10 points)\n",
    "We've learned that `5 +: List(20, 7)` constructs a list `List(5, 20, 7)`, and that pattern `_ +: _` can be used to unpack the list as well? Run the following code and note the value stored at `x` and `y`."
   ]
  },
  {
   "cell_type": "code",
   "execution_count": 10,
   "id": "a99191c2",
   "metadata": {
    "deletable": false,
    "editable": false,
    "nbgrader": {
     "cell_type": "code",
     "checksum": "69f19b52d51af2e5e3e7a70fbee031f2",
     "grade": false,
     "grade_id": "cell-7e5d40b791d333bf",
     "locked": true,
     "schema_version": 3,
     "solution": false,
     "task": false
    }
   },
   "outputs": [
    {
     "data": {
      "text/plain": [
       "\u001b[36mx\u001b[39m: \u001b[32mInt\u001b[39m = \u001b[32m5\u001b[39m\n",
       "\u001b[36my\u001b[39m: \u001b[32mList\u001b[39m[\u001b[32mInt\u001b[39m] = \u001b[33mList\u001b[39m(\u001b[32m20\u001b[39m, \u001b[32m7\u001b[39m)"
      ]
     },
     "execution_count": 10,
     "metadata": {},
     "output_type": "execute_result"
    }
   ],
   "source": [
    "val x +: y = List(5, 20, 7)"
   ]
  },
  {
   "cell_type": "markdown",
   "id": "0d65a2e0",
   "metadata": {
    "deletable": false,
    "editable": false,
    "nbgrader": {
     "cell_type": "markdown",
     "checksum": "572ef1845d70261f3bf91d105b95fb1c",
     "grade": false,
     "grade_id": "cell-a7f2284864b85a6c",
     "locked": true,
     "schema_version": 3,
     "solution": false,
     "task": false
    }
   },
   "source": [
    "We know that `(22, 14)` constructs a tuple, and that pattern `(_, _)` can be used to unpack a tuple as well. Run the following code and note the value stored at `x` and `y`."
   ]
  },
  {
   "cell_type": "code",
   "execution_count": 11,
   "id": "7b8167ac",
   "metadata": {
    "deletable": false,
    "editable": false,
    "nbgrader": {
     "cell_type": "code",
     "checksum": "a1acccbe505499eba17ded864c93fd43",
     "grade": false,
     "grade_id": "cell-4e1aa7c129135b8e",
     "locked": true,
     "schema_version": 3,
     "solution": false,
     "task": false
    }
   },
   "outputs": [
    {
     "data": {
      "text/plain": [
       "\u001b[36mx\u001b[39m: \u001b[32mInt\u001b[39m = \u001b[32m22\u001b[39m\n",
       "\u001b[36my\u001b[39m: \u001b[32mInt\u001b[39m = \u001b[32m14\u001b[39m"
      ]
     },
     "execution_count": 11,
     "metadata": {},
     "output_type": "execute_result"
    }
   ],
   "source": [
    "val (x, y)  = (22, 14) "
   ]
  },
  {
   "cell_type": "markdown",
   "id": "7f9f517b-7995-4bc9-8de4-6e7c93fe389d",
   "metadata": {
    "deletable": false,
    "editable": false,
    "nbgrader": {
     "cell_type": "markdown",
     "checksum": "2a8b8681f3faf191fcda8ad27208a049",
     "grade": false,
     "grade_id": "cell-eaf86d1e4fe7a50d",
     "locked": true,
     "schema_version": 3,
     "solution": false,
     "task": false
    }
   },
   "source": [
    "We know that `List(1,2,3)` constructs a list, can we use `val List(_,_,_)` to unpack the list as well? Run the following code and note the value stored at `x`,`y`, and `z`."
   ]
  },
  {
   "cell_type": "code",
   "execution_count": 12,
   "id": "5be35398-67f2-4b5a-866d-2c020036def3",
   "metadata": {
    "deletable": false,
    "editable": false,
    "nbgrader": {
     "cell_type": "code",
     "checksum": "28eff0cb6e3d4580e20341bfa7112a4d",
     "grade": false,
     "grade_id": "cell-b897abaa64889b2b",
     "locked": true,
     "schema_version": 3,
     "solution": false,
     "task": false
    }
   },
   "outputs": [
    {
     "data": {
      "text/plain": [
       "\u001b[36mx\u001b[39m: \u001b[32mInt\u001b[39m = \u001b[32m5\u001b[39m\n",
       "\u001b[36my\u001b[39m: \u001b[32mInt\u001b[39m = \u001b[32m10\u001b[39m\n",
       "\u001b[36mz\u001b[39m: \u001b[32mInt\u001b[39m = \u001b[32m15\u001b[39m"
      ]
     },
     "execution_count": 12,
     "metadata": {},
     "output_type": "execute_result"
    }
   ],
   "source": [
    "val List(x,y,z)  = List(5,10,15)"
   ]
  },
  {
   "cell_type": "markdown",
   "id": "704921c2-8a9a-4a80-b092-2859eec8bc76",
   "metadata": {
    "deletable": false,
    "editable": false,
    "nbgrader": {
     "cell_type": "markdown",
     "checksum": "7b31bc3a4a75a9b453d8c1605d55ae9a",
     "grade": false,
     "grade_id": "cell-67a7e4bb1760bcff",
     "locked": true,
     "schema_version": 3,
     "solution": false,
     "task": false
    }
   },
   "source": [
    "If we aren't certain about the length of the list, we might find the `val _ +: _` pattern easier. Run the following code and note the value stored at `first`, and `rest`."
   ]
  },
  {
   "cell_type": "code",
   "execution_count": 13,
   "id": "cc673862-2cb5-4737-954f-9ea88c393bf6",
   "metadata": {
    "deletable": false,
    "editable": false,
    "nbgrader": {
     "cell_type": "code",
     "checksum": "163dafb4fa135b8e2f7d31fe8ca2aad7",
     "grade": false,
     "grade_id": "cell-1874f7a299cc29d7",
     "locked": true,
     "schema_version": 3,
     "solution": false,
     "task": false
    }
   },
   "outputs": [
    {
     "data": {
      "text/plain": [
       "\u001b[36mfirst\u001b[39m: \u001b[32mInt\u001b[39m = \u001b[32m5\u001b[39m\n",
       "\u001b[36mrest\u001b[39m: \u001b[32mList\u001b[39m[\u001b[32mInt\u001b[39m] = \u001b[33mList\u001b[39m(\u001b[32m10\u001b[39m, \u001b[32m15\u001b[39m)"
      ]
     },
     "execution_count": 13,
     "metadata": {},
     "output_type": "execute_result"
    }
   ],
   "source": [
    "val first +: rest = List(5,10,15)"
   ]
  },
  {
   "cell_type": "markdown",
   "id": "265bb665-686e-4ed1-b8a4-b538dc705542",
   "metadata": {
    "deletable": false,
    "editable": false,
    "nbgrader": {
     "cell_type": "markdown",
     "checksum": "9a1566df01059071a7d1bcc60b7baadf",
     "grade": false,
     "grade_id": "cell-c0b1f1df13fb1dc2",
     "locked": true,
     "schema_version": 3,
     "solution": false,
     "task": false
    }
   },
   "source": [
    "But then what about a more complex list where we care about some element of the list, but also values within that element? The `_@_` pattern allows us to name the thing that we will further match on. Run the following code and note the value stored in `second`, `foo`, and `bar`."
   ]
  },
  {
   "cell_type": "code",
   "execution_count": 14,
   "id": "14628694-e1dc-4d94-9a83-b81c4d806f1e",
   "metadata": {
    "deletable": false,
    "editable": false,
    "nbgrader": {
     "cell_type": "code",
     "checksum": "e003ed364c4f3db61cfb4ae50c4e0cfe",
     "grade": false,
     "grade_id": "cell-cc549a4ab6582f38",
     "locked": true,
     "schema_version": 3,
     "solution": false,
     "task": false
    }
   },
   "outputs": [
    {
     "data": {
      "text/plain": [
       "\u001b[36msecond\u001b[39m: \u001b[32mList\u001b[39m[\u001b[32mInt\u001b[39m] = \u001b[33mList\u001b[39m(\u001b[32m30\u001b[39m, \u001b[32m40\u001b[39m)\n",
       "\u001b[36mfoo\u001b[39m: \u001b[32mInt\u001b[39m = \u001b[32m30\u001b[39m\n",
       "\u001b[36mbar\u001b[39m: \u001b[32mInt\u001b[39m = \u001b[32m40\u001b[39m"
      ]
     },
     "execution_count": 14,
     "metadata": {},
     "output_type": "execute_result"
    }
   ],
   "source": [
    "val _ +: ( second@List(foo, bar) ) +: _ = List( List(1,2), List(30, 40), List(987,654))"
   ]
  },
  {
   "cell_type": "markdown",
   "id": "0678a06d",
   "metadata": {
    "deletable": false,
    "editable": false,
    "nbgrader": {
     "cell_type": "markdown",
     "checksum": "5c085ac08092756f45e8df7b3ae03ca5",
     "grade": false,
     "grade_id": "cell-d2d743aeed66763f",
     "locked": true,
     "schema_version": 3,
     "solution": false,
     "task": false
    }
   },
   "source": [
    "Let us use the above concepts to unpack some lists to construct a few special variables. Your code should unpack the `listOfNumbers`, `aTuple`, and `listOfTupleStringNumber` and construct the following values in the following variables:\n",
    "* from listOfNumbers\n",
    "    * alpha = 5\n",
    "    * bravo = 22\n",
    "* from aTuple\n",
    "    * charlie = \"hi\"\n",
    "    * delta = \"bye\"\n",
    "* from listOfTupleStringNumber\n",
    "    * echo = (\"x\", 10)\n",
    "    * foxtrot = \"x\"\n",
    "    * gamma = List((\"y\", 20))\n",
    "    * hotel = 20\n",
    "\n",
    "You can use multiple lines and extra variables to achieve this, but we encourage that you challenge yourself to use `@` symbol and/or `_` in your solution to ignore values that aren't important to you. <a href=\"https://www.baeldung.com/scala/pattern-matching\">This Baeldung tutorial</a> demonstrates how to do this in a pattern match statement. While we won't use `match` just yet, the concept for unpacking remains the same."
   ]
  },
  {
   "cell_type": "code",
   "execution_count": 15,
   "id": "b2c86dc4",
   "metadata": {
    "deletable": false,
    "editable": false,
    "nbgrader": {
     "cell_type": "code",
     "checksum": "cc1da6e390e951381607c3cae16c42af",
     "grade": false,
     "grade_id": "cell-4123b4f7fa178ae7",
     "locked": true,
     "schema_version": 3,
     "solution": false,
     "task": false
    }
   },
   "outputs": [
    {
     "data": {
      "text/plain": [
       "\u001b[36mlistOfNumbers\u001b[39m: \u001b[32mList\u001b[39m[\u001b[32mInt\u001b[39m] = \u001b[33mList\u001b[39m(\u001b[32m5\u001b[39m, \u001b[32m42\u001b[39m, \u001b[32m22\u001b[39m)\n",
       "\u001b[36maTuple\u001b[39m: (\u001b[32mString\u001b[39m, \u001b[32mString\u001b[39m) = (\u001b[32m\"hi\"\u001b[39m, \u001b[32m\"bye\"\u001b[39m)\n",
       "\u001b[36mlistOfTupleStringNumber\u001b[39m: \u001b[32mList\u001b[39m[(\u001b[32mString\u001b[39m, \u001b[32mInt\u001b[39m)] = \u001b[33mList\u001b[39m((\u001b[32m\"x\"\u001b[39m, \u001b[32m10\u001b[39m), (\u001b[32m\"y\"\u001b[39m, \u001b[32m20\u001b[39m))"
      ]
     },
     "execution_count": 15,
     "metadata": {},
     "output_type": "execute_result"
    }
   ],
   "source": [
    "// PROVIDED (remember to run this cell)\n",
    "val listOfNumbers = List(5, 42, 22)\n",
    "val aTuple = (\"hi\", \"bye\")\n",
    "val listOfTupleStringNumber = List((\"x\", 10), (\"y\", 20))"
   ]
  },
  {
   "cell_type": "code",
   "execution_count": 16,
   "id": "a1e29a73",
   "metadata": {
    "deletable": false,
    "nbgrader": {
     "cell_type": "code",
     "checksum": "94f9131fbf6018aaff1663b6aaa7c75e",
     "grade": false,
     "grade_id": "cell-d8e8896d71681223",
     "locked": false,
     "schema_version": 3,
     "solution": true,
     "task": false
    }
   },
   "outputs": [
    {
     "data": {
      "text/plain": [
       "\u001b[36malpha\u001b[39m: \u001b[32mInt\u001b[39m = \u001b[32m5\u001b[39m\n",
       "\u001b[36mbravo\u001b[39m: \u001b[32mInt\u001b[39m = \u001b[32m22\u001b[39m\n",
       "\u001b[36mcharlie\u001b[39m: \u001b[32mString\u001b[39m = \u001b[32m\"hi\"\u001b[39m\n",
       "\u001b[36mdelta\u001b[39m: \u001b[32mString\u001b[39m = \u001b[32m\"bye\"\u001b[39m\n",
       "\u001b[36mecho\u001b[39m: (\u001b[32mString\u001b[39m, \u001b[32mInt\u001b[39m) = (\u001b[32m\"x\"\u001b[39m, \u001b[32m10\u001b[39m)\n",
       "\u001b[36mfoxtrot\u001b[39m: \u001b[32mString\u001b[39m = \u001b[32m\"x\"\u001b[39m\n",
       "\u001b[36mgamma\u001b[39m: \u001b[32mList\u001b[39m[(\u001b[32mString\u001b[39m, \u001b[32mInt\u001b[39m)] = \u001b[33mList\u001b[39m((\u001b[32m\"y\"\u001b[39m, \u001b[32m20\u001b[39m))\n",
       "\u001b[36mhotel\u001b[39m: \u001b[32mInt\u001b[39m = \u001b[32m20\u001b[39m"
      ]
     },
     "execution_count": 16,
     "metadata": {},
     "output_type": "execute_result"
    }
   ],
   "source": [
    "// _YOUR_CODE_HERE_\n",
    "val alpha +: _ +: (_@List(bravo)) = listOfNumbers\n",
    "val (charlie, delta) = aTuple\n",
    "val (echo@(foxtrot, _)) +: (gamma@List((_,hotel))) = listOfTupleStringNumber\n",
    "\n",
    "// _YOUR_TESTS_HERE_"
   ]
  },
  {
   "cell_type": "code",
   "execution_count": 17,
   "id": "6e80f413-0e0f-43ce-90ca-134e067752e0",
   "metadata": {
    "deletable": false,
    "editable": false,
    "nbgrader": {
     "cell_type": "code",
     "checksum": "a1ef5efe5ce99f6cec834445932db0e5",
     "grade": true,
     "grade_id": "cell-85cbcf63a605294a",
     "locked": true,
     "points": 1,
     "schema_version": 3,
     "solution": false,
     "task": false
    }
   },
   "outputs": [
    {
     "name": "stdout",
     "output_type": "stream",
     "text": [
      "Test ALPHA\n",
      "\t Expected: 5\n",
      "\tyour code returned: 5\n",
      "\tALPHA Passed!\n",
      "\n",
      "*** Tests Passed (1 point) ***\n"
     ]
    }
   ],
   "source": [
    "// BEGIN TESTS\n",
    "testWithMessage(() => alpha, 5, \"ALPHA\")\n",
    "passed(1)\n",
    "// END TESTS"
   ]
  },
  {
   "cell_type": "code",
   "execution_count": 18,
   "id": "e70a89f4-c0da-4f2c-b060-41adb2054516",
   "metadata": {
    "deletable": false,
    "editable": false,
    "nbgrader": {
     "cell_type": "code",
     "checksum": "10fdd8eb99e8308084b46b6d21f94eea",
     "grade": true,
     "grade_id": "cell-0fdf7f6087dae4c5",
     "locked": true,
     "points": 1,
     "schema_version": 3,
     "solution": false,
     "task": false
    }
   },
   "outputs": [
    {
     "name": "stdout",
     "output_type": "stream",
     "text": [
      "Test BRAVO\n",
      "\t Expected: 22\n",
      "\tyour code returned: 22\n",
      "\tBRAVO Passed!\n",
      "\n",
      "*** Tests Passed (1 point) ***\n"
     ]
    }
   ],
   "source": [
    "// BEGIN TESTS\n",
    "testWithMessage(() => bravo, 22, \"BRAVO\")\n",
    "passed(1)\n",
    "// END TESTS"
   ]
  },
  {
   "cell_type": "code",
   "execution_count": 19,
   "id": "a420de00-97a8-4629-bcc4-93804cfcfe7c",
   "metadata": {
    "deletable": false,
    "editable": false,
    "nbgrader": {
     "cell_type": "code",
     "checksum": "94d37266215afa96a53648127ba39616",
     "grade": true,
     "grade_id": "cell-3b6c5272488589a5",
     "locked": true,
     "points": 1,
     "schema_version": 3,
     "solution": false,
     "task": false
    }
   },
   "outputs": [
    {
     "name": "stdout",
     "output_type": "stream",
     "text": [
      "Test CHARLIE\n",
      "\t Expected: hi\n",
      "\tyour code returned: hi\n",
      "\tCHARLIE Passed!\n",
      "\n",
      "*** Tests Passed (1 point) ***\n"
     ]
    }
   ],
   "source": [
    "// BEGIN TESTS\n",
    "testWithMessage(() => charlie, \"hi\", \"CHARLIE\")\n",
    "passed(1)\n",
    "// END TESTS"
   ]
  },
  {
   "cell_type": "code",
   "execution_count": 20,
   "id": "4c5ac54d-778d-4377-9e6c-075de7edbdac",
   "metadata": {
    "deletable": false,
    "editable": false,
    "nbgrader": {
     "cell_type": "code",
     "checksum": "3b2838487fb70e2b740b73e3f2cc80fd",
     "grade": true,
     "grade_id": "cell-eb9556b0a5d9d5b7",
     "locked": true,
     "points": 1,
     "schema_version": 3,
     "solution": false,
     "task": false
    }
   },
   "outputs": [
    {
     "name": "stdout",
     "output_type": "stream",
     "text": [
      "Test DELTA\n",
      "\t Expected: bye\n",
      "\tyour code returned: bye\n",
      "\tDELTA Passed!\n",
      "\n",
      "*** Tests Passed (1 point) ***\n"
     ]
    }
   ],
   "source": [
    "// BEGIN TESTS\n",
    "testWithMessage(() => delta, \"bye\", \"DELTA\")\n",
    "passed(1)\n",
    "// END TESTS"
   ]
  },
  {
   "cell_type": "code",
   "execution_count": 21,
   "id": "2eb8b46e-e929-4418-b4b3-8df251765c24",
   "metadata": {
    "deletable": false,
    "editable": false,
    "nbgrader": {
     "cell_type": "code",
     "checksum": "f10d53e75db8d469df36d1d8c774849c",
     "grade": true,
     "grade_id": "cell-60edc98be5b4f90e",
     "locked": true,
     "points": 2,
     "schema_version": 3,
     "solution": false,
     "task": false
    }
   },
   "outputs": [
    {
     "name": "stdout",
     "output_type": "stream",
     "text": [
      "Test ECHO\n",
      "\t Expected: (x,10)\n",
      "\tyour code returned: (x,10)\n",
      "\tECHO Passed!\n",
      "\n",
      "*** Tests Passed (2 points) ***\n"
     ]
    }
   ],
   "source": [
    "// BEGIN TESTS\n",
    "testWithMessage(() => echo, (\"x\", 10), \"ECHO\")\n",
    "passed(2)\n",
    "// END TESTS"
   ]
  },
  {
   "cell_type": "code",
   "execution_count": 22,
   "id": "ccebb131-ff5a-4781-8cfc-7aa3c84aeb24",
   "metadata": {
    "deletable": false,
    "editable": false,
    "nbgrader": {
     "cell_type": "code",
     "checksum": "bfcd82785c92e0e2515295520069fd16",
     "grade": true,
     "grade_id": "cell-50ea18039a3a876d",
     "locked": true,
     "points": 1,
     "schema_version": 3,
     "solution": false,
     "task": false
    }
   },
   "outputs": [
    {
     "name": "stdout",
     "output_type": "stream",
     "text": [
      "Test FOXTROT\n",
      "\t Expected: x\n",
      "\tyour code returned: x\n",
      "\tFOXTROT Passed!\n",
      "\n",
      "*** Tests Passed (1 point) ***\n"
     ]
    }
   ],
   "source": [
    "// BEGIN TESTS\n",
    "testWithMessage(() => foxtrot, \"x\", \"FOXTROT\")\n",
    "passed(1)\n",
    "// END TESTS"
   ]
  },
  {
   "cell_type": "code",
   "execution_count": 23,
   "id": "dbd161d3-79a8-439a-a93b-e5b4c3a22509",
   "metadata": {
    "deletable": false,
    "editable": false,
    "nbgrader": {
     "cell_type": "code",
     "checksum": "7fb68b71eaafbf4e6f26a4112358b1eb",
     "grade": true,
     "grade_id": "cell-a40b91a4d6e4e7bd",
     "locked": true,
     "points": 2,
     "schema_version": 3,
     "solution": false,
     "task": false
    }
   },
   "outputs": [
    {
     "name": "stdout",
     "output_type": "stream",
     "text": [
      "Test GAMMA\n",
      "\t Expected: List((y,20))\n",
      "\tyour code returned: List((y,20))\n",
      "\tGAMMA Passed!\n",
      "\n",
      "*** Tests Passed (2 points) ***\n"
     ]
    }
   ],
   "source": [
    "// BEGIN TESTS\n",
    "testWithMessage(() => gamma, List((\"y\", 20)), \"GAMMA\")\n",
    "passed(2)\n",
    "// END TESTS"
   ]
  },
  {
   "cell_type": "code",
   "execution_count": 24,
   "id": "8a7b930e-a745-4379-8071-e0bf3823afc0",
   "metadata": {
    "deletable": false,
    "editable": false,
    "nbgrader": {
     "cell_type": "code",
     "checksum": "50bbcdfeb65bf519907296d5e4b1c8f1",
     "grade": true,
     "grade_id": "cell-ef71b70bb7bae53d",
     "locked": true,
     "points": 1,
     "schema_version": 3,
     "solution": false,
     "task": false
    }
   },
   "outputs": [
    {
     "name": "stdout",
     "output_type": "stream",
     "text": [
      "Test HOTEL\n",
      "\t Expected: 20\n",
      "\tyour code returned: 20\n",
      "\tHOTEL Passed!\n",
      "\n",
      "*** Tests Passed (1 point) ***\n"
     ]
    }
   ],
   "source": [
    "// BEGIN TESTS\n",
    "testWithMessage(() => hotel, 20, \"HOTEL\")\n",
    "passed(1)\n",
    "// END TESTS"
   ]
  },
  {
   "cell_type": "markdown",
   "id": "80e06976",
   "metadata": {
    "deletable": false,
    "editable": false,
    "nbgrader": {
     "cell_type": "markdown",
     "checksum": "0ffdb2b80c1bf1799c2400c0dd4bea89",
     "grade": false,
     "grade_id": "cell-3f9fe56ad4eee03c",
     "locked": true,
     "schema_version": 3,
     "solution": false,
     "task": false
    }
   },
   "source": [
    "## Problem 2.B. constructing custom list of custom tuple (15 points)\n",
    "Consider the following grammar that defines a custom list over custom tuples.\n",
    "\n",
    "$$\\begin{array}\n",
    "\\ MyTupleList & \\Rightarrow & EmptyList \\\\\n",
    "&|& MyListNode(Element,\\; MyTupleList) \\\\\n",
    "\\\\\n",
    "Element & \\Rightarrow & MyTupleNode(d, d) \\\\\n",
    "\\\\ \n",
    "&& \\texttt{d is a Scala Double}\n",
    "\\end{array}$$\n",
    "\n",
    "Please write this as Scala code?"
   ]
  },
  {
   "cell_type": "code",
   "execution_count": 25,
   "id": "2e1df043",
   "metadata": {
    "deletable": false,
    "nbgrader": {
     "cell_type": "code",
     "checksum": "022cb5da5e15c9f4c365177b39355715",
     "grade": false,
     "grade_id": "cell-11ffdd200e182e63",
     "locked": false,
     "schema_version": 3,
     "solution": true,
     "task": false
    }
   },
   "outputs": [
    {
     "data": {
      "text/plain": [
       "defined \u001b[32mtrait\u001b[39m \u001b[36mMyTupleList\u001b[39m\n",
       "defined \u001b[32mobject\u001b[39m \u001b[36mEmptyList\u001b[39m\n",
       "defined \u001b[32mclass\u001b[39m \u001b[36mMyListNode\u001b[39m\n",
       "defined \u001b[32mtrait\u001b[39m \u001b[36mElement\u001b[39m\n",
       "defined \u001b[32mclass\u001b[39m \u001b[36mMyTupleNode\u001b[39m"
      ]
     },
     "execution_count": 25,
     "metadata": {},
     "output_type": "execute_result"
    }
   ],
   "source": [
    "// _YOUR_CODE_HERE_\n",
    "sealed trait MyTupleList\n",
    "case object EmptyList extends MyTupleList\n",
    "case class MyListNode(e: Element, t: MyTupleList) extends MyTupleList\n",
    "\n",
    "sealed trait Element\n",
    "case class MyTupleNode(d0: Double, d1: Double) extends Element\n",
    "\n",
    "// _YOUR_TESTS_HERE_"
   ]
  },
  {
   "cell_type": "code",
   "execution_count": 26,
   "id": "1279dc0e",
   "metadata": {
    "deletable": false,
    "editable": false,
    "nbgrader": {
     "cell_type": "code",
     "checksum": "e53a6525604e3ea3938901098faf2420",
     "grade": true,
     "grade_id": "cell-433266190293384d",
     "locked": true,
     "points": 10,
     "schema_version": 3,
     "solution": false,
     "task": false
    }
   },
   "outputs": [
    {
     "name": "stdout",
     "output_type": "stream",
     "text": [
      "\n",
      "*** Tests Passed (10 points) ***\n"
     ]
    },
    {
     "data": {
      "text/plain": [
       "\u001b[36mx0\u001b[39m: \u001b[32mEmptyList\u001b[39m.type = EmptyList\n",
       "\u001b[36mx1\u001b[39m: \u001b[32mMyListNode\u001b[39m = \u001b[33mMyListNode\u001b[39m(e = \u001b[33mMyTupleNode\u001b[39m(d0 = \u001b[32m1.0\u001b[39m, d1 = \u001b[32m2.0\u001b[39m), t = EmptyList)"
      ]
     },
     "execution_count": 26,
     "metadata": {},
     "output_type": "execute_result"
    }
   ],
   "source": [
    "// BEGIN TESTS\n",
    "val x0 = EmptyList\n",
    "val x1 = MyListNode(MyTupleNode(1,2), x0)\n",
    "for (x <- List(x0, x1)) {\n",
    "    assert(x.isInstanceOf[MyTupleList])\n",
    "    assert(!x.isInstanceOf[Element])\n",
    "    assert(!x.isInstanceOf[Double])\n",
    "}\n",
    "passed(10)\n",
    "// END TESTS"
   ]
  },
  {
   "cell_type": "code",
   "execution_count": 27,
   "id": "c6a61180",
   "metadata": {
    "deletable": false,
    "editable": false,
    "nbgrader": {
     "cell_type": "code",
     "checksum": "dcc67ac79b4544ad0efd138062661223",
     "grade": true,
     "grade_id": "cell-e4174d2cd27c8cb2",
     "locked": true,
     "points": 5,
     "schema_version": 3,
     "solution": false,
     "task": false
    }
   },
   "outputs": [
    {
     "name": "stdout",
     "output_type": "stream",
     "text": [
      "\n",
      "*** Tests Passed (5 points) ***\n"
     ]
    },
    {
     "data": {
      "text/plain": [
       "\u001b[36mx0\u001b[39m: \u001b[32mMyTupleNode\u001b[39m = \u001b[33mMyTupleNode\u001b[39m(d0 = \u001b[32m1.0\u001b[39m, d1 = \u001b[32m2.0\u001b[39m)\n",
       "\u001b[36mx1\u001b[39m: \u001b[32mMyTupleNode\u001b[39m = \u001b[33mMyTupleNode\u001b[39m(d0 = \u001b[32m15.0\u001b[39m, d1 = \u001b[32m10.0\u001b[39m)"
      ]
     },
     "execution_count": 27,
     "metadata": {},
     "output_type": "execute_result"
    }
   ],
   "source": [
    "// BEGIN TESTS\n",
    "val x0 = MyTupleNode(1, 2)\n",
    "val x1 = MyTupleNode(15, 10)\n",
    "for (x <- List(x0, x1)) {\n",
    "    assert(!x.isInstanceOf[MyTupleList])\n",
    "    assert(x.isInstanceOf[Element])\n",
    "    assert(!x.isInstanceOf[Double])\n",
    "}\n",
    "passed(5)\n",
    "// END TESTS"
   ]
  },
  {
   "cell_type": "markdown",
   "id": "ba991edf-8ffb-4311-be21-b52fc71bd428",
   "metadata": {
    "deletable": false,
    "editable": false,
    "nbgrader": {
     "cell_type": "markdown",
     "checksum": "ecd2385d85459e5550b8340c8058027a",
     "grade": false,
     "grade_id": "cell-64a4d37b417aa339",
     "locked": true,
     "schema_version": 3,
     "solution": false,
     "task": false
    }
   },
   "source": [
    "## Problem 2.C. unpacking custom list of custom tuple (20 point)\n",
    "\n",
    "Unpack variable `foo` representing the Scala List `List((5, 10), (25, 7), (1000, 20000))` using our custom data structure, unpack `foo` such that the following holds true:\n",
    "* india = 10\n",
    "* juliette = 25\n",
    "* kilo = MyTupleNode(1000, 20000)\n",
    "* mike = 1000\n",
    "\n",
    "\n",
    "You can use multiple lines and extra variables to achieve this, but we encourage that you challenge yourself to use `@` symbol and/or `_` in your solution to ignore values that aren't important to you. <a href=\"https://www.baeldung.com/scala/pattern-matching\">This Baeldung tutorial</a> demonstrates how to do this in a pattern match statement. While we won't use `match` just yet, the concept for unpacking remains the same."
   ]
  },
  {
   "cell_type": "code",
   "execution_count": 28,
   "id": "78a6fc3b",
   "metadata": {
    "deletable": false,
    "editable": false,
    "nbgrader": {
     "cell_type": "code",
     "checksum": "23d8b6222de420dd5781bb04fc5fbb0f",
     "grade": false,
     "grade_id": "cell-a1d98b0d60209782",
     "locked": true,
     "schema_version": 3,
     "solution": false,
     "task": false
    }
   },
   "outputs": [
    {
     "data": {
      "text/plain": [
       "\u001b[36mfoo\u001b[39m: \u001b[32mMyListNode\u001b[39m = \u001b[33mMyListNode\u001b[39m(\n",
       "  e = \u001b[33mMyTupleNode\u001b[39m(d0 = \u001b[32m5.0\u001b[39m, d1 = \u001b[32m10.0\u001b[39m),\n",
       "  t = \u001b[33mMyListNode\u001b[39m(\n",
       "    e = \u001b[33mMyTupleNode\u001b[39m(d0 = \u001b[32m25.0\u001b[39m, d1 = \u001b[32m7.0\u001b[39m),\n",
       "    t = \u001b[33mMyListNode\u001b[39m(e = \u001b[33mMyTupleNode\u001b[39m(d0 = \u001b[32m1000.0\u001b[39m, d1 = \u001b[32m20000.0\u001b[39m), t = EmptyList)\n",
       "  )\n",
       ")"
      ]
     },
     "execution_count": 28,
     "metadata": {},
     "output_type": "execute_result"
    }
   ],
   "source": [
    "// GIVEN\n",
    "// List((5, 10), (25, 7), (1000, 20000))\n",
    "val foo = MyListNode(MyTupleNode(5, 10), \n",
    "                   MyListNode(MyTupleNode(25, 7),\n",
    "                              MyListNode(MyTupleNode(1000, 20000),\n",
    "                                         EmptyList)))"
   ]
  },
  {
   "cell_type": "code",
   "execution_count": 29,
   "id": "99943dfd",
   "metadata": {
    "deletable": false,
    "nbgrader": {
     "cell_type": "code",
     "checksum": "0d917c225fb9e75c8cc03464a07c1d51",
     "grade": false,
     "grade_id": "cell-6419948b8fab433e",
     "locked": false,
     "schema_version": 3,
     "solution": true,
     "task": false
    }
   },
   "outputs": [
    {
     "data": {
      "text/plain": [
       "\u001b[36mindia\u001b[39m: \u001b[32mDouble\u001b[39m = \u001b[32m10.0\u001b[39m\n",
       "\u001b[36mjuliette\u001b[39m: \u001b[32mDouble\u001b[39m = \u001b[32m25.0\u001b[39m\n",
       "\u001b[36mkilo\u001b[39m: \u001b[32mMyTupleNode\u001b[39m = \u001b[33mMyTupleNode\u001b[39m(d0 = \u001b[32m1000.0\u001b[39m, d1 = \u001b[32m20000.0\u001b[39m)\n",
       "\u001b[36mmike\u001b[39m: \u001b[32mDouble\u001b[39m = \u001b[32m1000.0\u001b[39m"
      ]
     },
     "execution_count": 29,
     "metadata": {},
     "output_type": "execute_result"
    }
   ],
   "source": [
    "// _YOUR_CODE_HERE_\n",
    "val _@MyListNode(_@MyTupleNode(_, india), _@MyListNode(_@MyTupleNode(juliette, _), _@MyListNode(kilo@MyTupleNode(mike, _), _@EmptyList))) = foo"
   ]
  },
  {
   "cell_type": "code",
   "execution_count": 30,
   "id": "c65080a5",
   "metadata": {
    "deletable": false,
    "editable": false,
    "nbgrader": {
     "cell_type": "code",
     "checksum": "3e3fe063b427b4049383cb3a519c3832",
     "grade": true,
     "grade_id": "cell-d221fe20a87b7596",
     "locked": true,
     "points": 5,
     "schema_version": 3,
     "solution": false,
     "task": false
    }
   },
   "outputs": [
    {
     "name": "stdout",
     "output_type": "stream",
     "text": [
      "Test INDIA\n",
      "\t Expected: 10\n",
      "\tyour code returned: 10.0\n",
      "\tINDIA Passed!\n",
      "\n",
      "*** Tests Passed (5 points) ***\n"
     ]
    }
   ],
   "source": [
    "// BEGIN TESTS\n",
    "testWithMessage(() => india, 10, \"INDIA\")\n",
    "passed(5)\n",
    "// END TESTS"
   ]
  },
  {
   "cell_type": "code",
   "execution_count": 31,
   "id": "0a3d9966-54bc-4360-af37-da2c9d42a358",
   "metadata": {
    "deletable": false,
    "editable": false,
    "nbgrader": {
     "cell_type": "code",
     "checksum": "09694749fb118489e481a254f0ab2dd4",
     "grade": true,
     "grade_id": "cell-afef679e869a44e3",
     "locked": true,
     "points": 5,
     "schema_version": 3,
     "solution": false,
     "task": false
    }
   },
   "outputs": [
    {
     "name": "stdout",
     "output_type": "stream",
     "text": [
      "Test JULIETTE\n",
      "\t Expected: 25\n",
      "\tyour code returned: 25.0\n",
      "\tJULIETTE Passed!\n",
      "\n",
      "*** Tests Passed (5 points) ***\n"
     ]
    }
   ],
   "source": [
    "// BEGIN TESTS\n",
    "testWithMessage(() => juliette, 25, \"JULIETTE\")\n",
    "passed(5)\n",
    "// END TESTS"
   ]
  },
  {
   "cell_type": "code",
   "execution_count": 32,
   "id": "6c60451b-4057-4526-9ab7-c7bcaf5ee0fa",
   "metadata": {
    "deletable": false,
    "editable": false,
    "nbgrader": {
     "cell_type": "code",
     "checksum": "b44207e2da167522a72e72b191630f8c",
     "grade": true,
     "grade_id": "cell-f8b26c57f30ad370",
     "locked": true,
     "points": 5,
     "schema_version": 3,
     "solution": false,
     "task": false
    }
   },
   "outputs": [
    {
     "name": "stdout",
     "output_type": "stream",
     "text": [
      "Test KILO\n",
      "\t Expected: MyTupleNode(1000.0,20000.0)\n",
      "\tyour code returned: MyTupleNode(1000.0,20000.0)\n",
      "\tKILO Passed!\n",
      "\n",
      "*** Tests Passed (5 points) ***\n"
     ]
    }
   ],
   "source": [
    "// BEGIN TESTS\n",
    "testWithMessage(() => kilo, MyTupleNode(1000, 20000), \"KILO\")\n",
    "passed(5)\n",
    "// END TESTS"
   ]
  },
  {
   "cell_type": "code",
   "execution_count": 33,
   "id": "8528373c-eb11-4c64-87dd-73bc527c78d0",
   "metadata": {
    "deletable": false,
    "editable": false,
    "nbgrader": {
     "cell_type": "code",
     "checksum": "7ab31348bd227b1617c158a0dc9cba57",
     "grade": true,
     "grade_id": "cell-fecd78598835ce5b",
     "locked": true,
     "points": 5,
     "schema_version": 3,
     "solution": false,
     "task": false
    }
   },
   "outputs": [
    {
     "name": "stdout",
     "output_type": "stream",
     "text": [
      "Test MIKE\n",
      "\t Expected: 1000\n",
      "\tyour code returned: 1000.0\n",
      "\tMIKE Passed!\n",
      "\n",
      "*** Tests Passed (5 points) ***\n"
     ]
    }
   ],
   "source": [
    "// BEGIN TESTS\n",
    "testWithMessage(() => mike, 1000, \"MIKE\")\n",
    "passed(5)\n",
    "// END TESTS"
   ]
  },
  {
   "cell_type": "markdown",
   "id": "227be8da-901c-4b36-b757-3334b57a78f6",
   "metadata": {
    "deletable": false,
    "editable": false,
    "nbgrader": {
     "cell_type": "markdown",
     "checksum": "4ae6b1a4e5e5e49b7ffa50e1f685cdfc",
     "grade": false,
     "grade_id": "cell-c0177cec0039c320",
     "locked": true,
     "schema_version": 3,
     "solution": false,
     "task": false
    }
   },
   "source": [
    "## Problem 2.D. Pattern Matching on custom list of custom tuple (20 points)\n",
    "Below we demonstrate how to solve 'sum' recursively using pattern matching on a Scala `List[(Double, Double)]`. Your task is to solve the same function using pattern matching but on a `MyTupleList` instead. A few code stubs are provided for you to choose from if you'd like.\n",
    "\n",
    "* ***Restrictions:***\n",
    "    * Solution must be recursive (optionally tail recursive including the `@tailrec` decorator)\n",
    "    * Function must be named `sumMyTupleList`\n",
    "    * Function must have a default function type `MyTupleList => Double`\n",
    "    * Function cannot call `sum`\n",
    "    * Solution must use a pattern `match` statement\n",
    "    * Can NOT use the keywords `return`, `var`, `for`, or `while`"
   ]
  },
  {
   "cell_type": "code",
   "execution_count": 34,
   "id": "90efc84d-c751-4993-93fe-99eabc34be13",
   "metadata": {
    "deletable": false,
    "editable": false,
    "nbgrader": {
     "cell_type": "code",
     "checksum": "8121b77d400af3239677c1ab925bd38c",
     "grade": false,
     "grade_id": "cell-47aaa110a975549a",
     "locked": true,
     "schema_version": 3,
     "solution": false,
     "task": false
    }
   },
   "outputs": [
    {
     "name": "stderr",
     "output_type": "stream",
     "text": [
      "cell34.sc:3: match may not be exhaustive.\n",
      "It would fail on the following input: List(_)\n",
      "    lst match {\n",
      "    ^\n"
     ]
    },
    {
     "data": {
      "text/plain": [
       "defined \u001b[32mfunction\u001b[39m \u001b[36msum\u001b[39m"
      ]
     },
     "execution_count": 34,
     "metadata": {},
     "output_type": "execute_result"
    }
   ],
   "source": [
    "// GIVEN\n",
    "def sum(lst: List[(Double, Double)]): Double = {\n",
    "    lst match {\n",
    "        case List() => 0\n",
    "        case (firstLeft, firstRight) +: rest => firstLeft + firstRight + sum(rest)\n",
    "    }\n",
    "}"
   ]
  },
  {
   "cell_type": "code",
   "execution_count": 35,
   "id": "d99d5dcd-adf4-4527-be71-84dfe91724e5",
   "metadata": {
    "deletable": false,
    "nbgrader": {
     "cell_type": "code",
     "checksum": "9520f61d4f19906b8d0e5eecfd5e51d1",
     "grade": false,
     "grade_id": "cell-e4c22116e854e7ca",
     "locked": false,
     "schema_version": 3,
     "solution": true,
     "task": false
    }
   },
   "outputs": [
    {
     "data": {
      "text/plain": [
       "defined \u001b[32mfunction\u001b[39m \u001b[36msumMyTupleList\u001b[39m"
      ]
     },
     "execution_count": 35,
     "metadata": {},
     "output_type": "execute_result"
    }
   ],
   "source": [
    "// choose any of these stubs, or make your own that passes the tests\n",
    "\n",
    "// def sumMyTupleList(lst: MyTupleList): Double = { ...\n",
    "\n",
    "// @tailrec\n",
    "// def sumMyTupleList(l: MyTupleList, acc: Double = 0): Double = { ...\n",
    "\n",
    "// def sumMyTupleList(l: MyTupleList): Double = { ...<some kind of helper that is tail recursive>...\n",
    "\n",
    "// _YOUR_CODE_HERE_\n",
    "def sumMyTupleList(lst: MyTupleList): Double = {\n",
    "    lst match {\n",
    "        case EmptyList => 0\n",
    "        case MyListNode(head, tail) =>  \n",
    "            val MyTupleNode(x0,x1) = head\n",
    "            x0 + x1 + sumMyTupleList(tail)\n",
    "    }\n",
    "}\n",
    "\n",
    "// _YOUR_TESTS_HERE_"
   ]
  },
  {
   "cell_type": "code",
   "execution_count": 36,
   "id": "bf1a9494-ffab-4a77-811a-270019a420a7",
   "metadata": {
    "deletable": false,
    "editable": false,
    "nbgrader": {
     "cell_type": "code",
     "checksum": "6ecce74aa1dcb2f83d61ab822f295a2f",
     "grade": true,
     "grade_id": "cell-4f435cf7753a9bcd",
     "locked": true,
     "points": 3,
     "schema_version": 3,
     "solution": false,
     "task": false
    }
   },
   "outputs": [
    {
     "name": "stdout",
     "output_type": "stream",
     "text": [
      "Test test sumMyTupleList base case\n",
      "\t Expected: 0\n",
      "\tyour code returned: 0.0\n",
      "\ttest sumMyTupleList base case Passed!\n",
      "\n",
      "*** Tests Passed (3 points) ***\n"
     ]
    }
   ],
   "source": [
    "// BEGIN TESTS\n",
    "testWithMessage(() => sumMyTupleList(EmptyList), 0, \"test sumMyTupleList base case\")\n",
    "passed(3)\n",
    "// END TESTS"
   ]
  },
  {
   "cell_type": "code",
   "execution_count": 37,
   "id": "e37b4b5e-f067-4792-a601-41ba36120ad5",
   "metadata": {
    "deletable": false,
    "editable": false,
    "nbgrader": {
     "cell_type": "code",
     "checksum": "d646074d7c319b6f627083c31ea1cd35",
     "grade": true,
     "grade_id": "cell-4f7ad81cf09baebb",
     "locked": true,
     "points": 7,
     "schema_version": 3,
     "solution": false,
     "task": false
    }
   },
   "outputs": [
    {
     "name": "stdout",
     "output_type": "stream",
     "text": [
      "Test test sumMyTupleList base case\n",
      "\t Expected: 15\n",
      "\tyour code returned: 15.0\n",
      "\ttest sumMyTupleList base case Passed!\n",
      "Test test sumMyTupleList base case\n",
      "\t Expected: 1.4445948867166005\n",
      "\tyour code returned: 1.4445948867166005\n",
      "\ttest sumMyTupleList base case Passed!\n",
      "\n",
      "*** Tests Passed (7 points) ***\n"
     ]
    },
    {
     "data": {
      "text/plain": [
       "\u001b[36mt1\u001b[39m: \u001b[32mMyTupleNode\u001b[39m = \u001b[33mMyTupleNode\u001b[39m(d0 = \u001b[32m5.0\u001b[39m, d1 = \u001b[32m10.0\u001b[39m)\n",
       "\u001b[36ml1\u001b[39m: \u001b[32mMyListNode\u001b[39m = \u001b[33mMyListNode\u001b[39m(e = \u001b[33mMyTupleNode\u001b[39m(d0 = \u001b[32m5.0\u001b[39m, d1 = \u001b[32m10.0\u001b[39m), t = EmptyList)\n",
       "\u001b[36mrand\u001b[39m: \u001b[32mutil\u001b[39m.\u001b[32mRandom\u001b[39m = scala.util.Random@423d642a\n",
       "\u001b[36md1\u001b[39m: \u001b[32mDouble\u001b[39m = \u001b[32m0.8709158198883864\u001b[39m\n",
       "\u001b[36md2\u001b[39m: \u001b[32mDouble\u001b[39m = \u001b[32m0.573679066828214\u001b[39m\n",
       "\u001b[36mt2\u001b[39m: \u001b[32mMyTupleNode\u001b[39m = \u001b[33mMyTupleNode\u001b[39m(d0 = \u001b[32m0.8709158198883864\u001b[39m, d1 = \u001b[32m0.573679066828214\u001b[39m)\n",
       "\u001b[36ml2\u001b[39m: \u001b[32mMyListNode\u001b[39m = \u001b[33mMyListNode\u001b[39m(\n",
       "  e = \u001b[33mMyTupleNode\u001b[39m(d0 = \u001b[32m0.8709158198883864\u001b[39m, d1 = \u001b[32m0.573679066828214\u001b[39m),\n",
       "  t = EmptyList\n",
       ")"
      ]
     },
     "execution_count": 37,
     "metadata": {},
     "output_type": "execute_result"
    }
   ],
   "source": [
    "// BEGIN TESTS\n",
    "val t1 = MyTupleNode(5, 10)\n",
    "val l1 = MyListNode(t1, EmptyList)\n",
    "testWithMessage(() => sumMyTupleList(l1), 15, \"test sumMyTupleList base case\")\n",
    "\n",
    "val rand = new scala.util.Random\n",
    "val d1 = rand.nextDouble()\n",
    "val d2 = rand.nextDouble()\n",
    "val t2 = MyTupleNode(d1, d2)\n",
    "val l2 = MyListNode(t2, EmptyList)\n",
    "testWithMessage(() => sumMyTupleList(l2), d1 + d2, \"test sumMyTupleList base case\")\n",
    "passed(7)\n",
    "// END TESTS"
   ]
  },
  {
   "cell_type": "code",
   "execution_count": 38,
   "id": "3d6667c8-ae98-4a9d-a448-89a40d796e56",
   "metadata": {
    "deletable": false,
    "editable": false,
    "nbgrader": {
     "cell_type": "code",
     "checksum": "176dac994ce2d0e8b5c3e485857f2364",
     "grade": true,
     "grade_id": "cell-91c28f946b83fb17",
     "locked": true,
     "points": 10,
     "schema_version": 3,
     "solution": false,
     "task": false
    }
   },
   "outputs": [
    {
     "name": "stdout",
     "output_type": "stream",
     "text": [
      "Test test sumMyTupleList 1\n",
      "\t Expected: 21047\n",
      "\tyour code returned: 21047.0\n",
      "\ttest sumMyTupleList 1 Passed!\n",
      "Test test sumMyTupleList 2\n",
      "\t Expected: 21059\n",
      "\tyour code returned: 21059.0\n",
      "\ttest sumMyTupleList 2 Passed!\n",
      "Test test sumMyTupleList 3\n",
      "\t Expected: 42094\n",
      "\tyour code returned: 42094.0\n",
      "\ttest sumMyTupleList 3 Passed!\n",
      "\n",
      "*** Tests Passed (10 points) ***\n"
     ]
    },
    {
     "data": {
      "text/plain": [
       "\u001b[36mfoo\u001b[39m: \u001b[32mMyListNode\u001b[39m = \u001b[33mMyListNode\u001b[39m(\n",
       "  e = \u001b[33mMyTupleNode\u001b[39m(d0 = \u001b[32m5.0\u001b[39m, d1 = \u001b[32m10.0\u001b[39m),\n",
       "  t = \u001b[33mMyListNode\u001b[39m(\n",
       "    e = \u001b[33mMyTupleNode\u001b[39m(d0 = \u001b[32m25.0\u001b[39m, d1 = \u001b[32m7.0\u001b[39m),\n",
       "    t = \u001b[33mMyListNode\u001b[39m(e = \u001b[33mMyTupleNode\u001b[39m(d0 = \u001b[32m1000.0\u001b[39m, d1 = \u001b[32m20000.0\u001b[39m), t = EmptyList)\n",
       "  )\n",
       ")\n",
       "\u001b[36mbar\u001b[39m: \u001b[32mMyListNode\u001b[39m = \u001b[33mMyListNode\u001b[39m(\n",
       "  e = \u001b[33mMyTupleNode\u001b[39m(d0 = \u001b[32m7.0\u001b[39m, d1 = \u001b[32m12.0\u001b[39m),\n",
       "  t = \u001b[33mMyListNode\u001b[39m(\n",
       "    e = \u001b[33mMyTupleNode\u001b[39m(d0 = \u001b[32m27.0\u001b[39m, d1 = \u001b[32m9.0\u001b[39m),\n",
       "    t = \u001b[33mMyListNode\u001b[39m(e = \u001b[33mMyTupleNode\u001b[39m(d0 = \u001b[32m1002.0\u001b[39m, d1 = \u001b[32m20002.0\u001b[39m), t = EmptyList)\n",
       "  )\n",
       ")\n",
       "\u001b[36mbaz\u001b[39m: \u001b[32mMyListNode\u001b[39m = \u001b[33mMyListNode\u001b[39m(\n",
       "  e = \u001b[33mMyTupleNode\u001b[39m(d0 = \u001b[32m10.0\u001b[39m, d1 = \u001b[32m20.0\u001b[39m),\n",
       "  t = \u001b[33mMyListNode\u001b[39m(\n",
       "    e = \u001b[33mMyTupleNode\u001b[39m(d0 = \u001b[32m50.0\u001b[39m, d1 = \u001b[32m14.0\u001b[39m),\n",
       "    t = \u001b[33mMyListNode\u001b[39m(e = \u001b[33mMyTupleNode\u001b[39m(d0 = \u001b[32m2000.0\u001b[39m, d1 = \u001b[32m40000.0\u001b[39m), t = EmptyList)\n",
       "  )\n",
       ")"
      ]
     },
     "execution_count": 38,
     "metadata": {},
     "output_type": "execute_result"
    }
   ],
   "source": [
    "// BEGIN TESTS\n",
    "val foo = MyListNode(MyTupleNode(5, 10), \n",
    "                   MyListNode(MyTupleNode(25, 7),\n",
    "                              MyListNode(MyTupleNode(1000, 20000),\n",
    "                                         EmptyList)))\n",
    "\n",
    "val bar = MyListNode(MyTupleNode(7, 12), \n",
    "                   MyListNode(MyTupleNode(27, 9),\n",
    "                              MyListNode(MyTupleNode(1002, 20002),\n",
    "                                         EmptyList)))\n",
    "\n",
    "val baz = MyListNode(MyTupleNode(10, 20), \n",
    "                   MyListNode(MyTupleNode(50, 14),\n",
    "                              MyListNode(MyTupleNode(2000, 40000),\n",
    "                                         EmptyList)))\n",
    "\n",
    "testWithMessage(() => sumMyTupleList(foo), 21047, \"test sumMyTupleList 1\")\n",
    "testWithMessage(() => sumMyTupleList(bar), 21047+12, \"test sumMyTupleList 2\")\n",
    "testWithMessage(() => sumMyTupleList(baz), 21047*2, \"test sumMyTupleList 3\")\n",
    "passed(10)\n",
    "// END TESTS"
   ]
  },
  {
   "cell_type": "code",
   "execution_count": 39,
   "id": "8c5de50a",
   "metadata": {},
   "outputs": [
    {
     "name": "stdout",
     "output_type": "stream",
     "text": [
      "Score: 100 out of 100"
     ]
    }
   ],
   "source": [
    "grade()"
   ]
  },
  {
   "cell_type": "markdown",
   "id": "abaeaeee",
   "metadata": {
    "deletable": false,
    "editable": false,
    "nbgrader": {
     "cell_type": "markdown",
     "checksum": "56803fe5930b14aa04336ca3592301e2",
     "grade": false,
     "grade_id": "cell-b9cb1f57593f164f",
     "locked": true,
     "schema_version": 3,
     "solution": false,
     "task": false
    }
   },
   "source": [
    "## Challenge Problem (0 points)\n",
    "* **Challenge problems are optional and not for credit.**\n",
    "* For Scala `List[(Int, Int)]` and/or `MyTupleList` implement each of the following and test your work\n",
    "* a function that finds the value of the product of all numbers in the collection (lookup Scala `foldRight`, `foldLeft`, `reduce`). \n",
    "* a function that finds the largest number in the collection (lookup Scala `foldRight`, `foldLeft`, `reduce`).\n",
    "* a function that confirms if some specific number exists in the collection (lookup Scala `contains`).\n",
    "* a function that confirms if some number exists in the collection such that some condition holds true e.g. has an even values (lookup Scala `filter`).\n",
    "* a function that modifies each element of the collection in some way e.g. increment each number (lookup Scala `map`)."
   ]
  },
  {
   "cell_type": "code",
   "execution_count": 40,
   "id": "cc1e1d37",
   "metadata": {
    "deletable": false,
    "nbgrader": {
     "cell_type": "code",
     "checksum": "eae61f6c3036b2be602391142d0f2e22",
     "grade": false,
     "grade_id": "cell-b1aaed0815ce24d2",
     "locked": false,
     "schema_version": 3,
     "solution": true,
     "task": false
    }
   },
   "outputs": [
    {
     "ename": "scala.NotImplementedError",
     "evalue": "an implementation is missing",
     "output_type": "error",
     "traceback": [
      "\u001b[31mscala.NotImplementedError: an implementation is missing\u001b[39m",
      "  scala.Predef$.$qmark$qmark$qmark(\u001b[32mPredef.scala\u001b[39m:\u001b[32m344\u001b[39m)",
      "  ammonite.$sess.cell40$Helper.<init>(\u001b[32mcell40.sc\u001b[39m:\u001b[32m2\u001b[39m)",
      "  ammonite.$sess.cell40$.<clinit>(\u001b[32mcell40.sc\u001b[39m:\u001b[32m7\u001b[39m)"
     ]
    }
   ],
   "source": [
    "// _YOUR_CODE_HERE_\n",
    "???"
   ]
  },
  {
   "cell_type": "markdown",
   "id": "24c3163d",
   "metadata": {
    "deletable": false,
    "editable": false,
    "nbgrader": {
     "cell_type": "markdown",
     "checksum": "1390767c475f90f193ce523e4426e470",
     "grade": false,
     "grade_id": "cell-cd87c8e50d6ab63a",
     "locked": true,
     "schema_version": 3,
     "solution": false,
     "task": false
    }
   },
   "source": [
    "## That's all folks"
   ]
  }
 ],
 "metadata": {
  "kernelspec": {
   "display_name": "Scala",
   "language": "scala",
   "name": "scala"
  },
  "language_info": {
   "codemirror_mode": "text/x-scala",
   "file_extension": ".sc",
   "mimetype": "text/x-scala",
   "name": "scala",
   "nbconvert_exporter": "script",
   "version": "2.13.12"
  }
 },
 "nbformat": 4,
 "nbformat_minor": 5
}
